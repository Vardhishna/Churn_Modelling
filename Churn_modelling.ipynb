{
  "nbformat": 4,
  "nbformat_minor": 0,
  "metadata": {
    "colab": {
      "name": "Churn_modelling.ipynb",
      "provenance": [],
      "authorship_tag": "ABX9TyM06JIGI9LuxcdKw8ZYXOYw",
      "include_colab_link": true
    },
    "kernelspec": {
      "name": "python3",
      "display_name": "Python 3"
    }
  },
  "cells": [
    {
      "cell_type": "markdown",
      "metadata": {
        "id": "view-in-github",
        "colab_type": "text"
      },
      "source": [
        "<a href=\"https://colab.research.google.com/github/Vardhishna/Churn_Modelling/blob/main/Churn_modelling.ipynb\" target=\"_parent\"><img src=\"https://colab.research.google.com/assets/colab-badge.svg\" alt=\"Open In Colab\"/></a>"
      ]
    },
    {
      "cell_type": "code",
      "metadata": {
        "id": "ds-tX-fzexaR"
      },
      "source": [
        "import pandas as pd\n",
        "import numpy as np\n",
        "import matplotlib.pyplot as plt\n"
      ],
      "execution_count": 23,
      "outputs": []
    },
    {
      "cell_type": "code",
      "metadata": {
        "id": "UiBA739gfCC3"
      },
      "source": [
        "data = pd.read_csv('Churn_Modelling.csv')\n"
      ],
      "execution_count": 24,
      "outputs": []
    },
    {
      "cell_type": "code",
      "metadata": {
        "colab": {
          "base_uri": "https://localhost:8080/",
          "height": 224
        },
        "id": "BLPUd_wQhbJy",
        "outputId": "a2d43aa4-e79c-4b63-ed6a-845659008e2a"
      },
      "source": [
        "data.head()"
      ],
      "execution_count": 25,
      "outputs": [
        {
          "output_type": "execute_result",
          "data": {
            "text/html": [
              "<div>\n",
              "<style scoped>\n",
              "    .dataframe tbody tr th:only-of-type {\n",
              "        vertical-align: middle;\n",
              "    }\n",
              "\n",
              "    .dataframe tbody tr th {\n",
              "        vertical-align: top;\n",
              "    }\n",
              "\n",
              "    .dataframe thead th {\n",
              "        text-align: right;\n",
              "    }\n",
              "</style>\n",
              "<table border=\"1\" class=\"dataframe\">\n",
              "  <thead>\n",
              "    <tr style=\"text-align: right;\">\n",
              "      <th></th>\n",
              "      <th>RowNumber</th>\n",
              "      <th>CustomerId</th>\n",
              "      <th>Surname</th>\n",
              "      <th>CreditScore</th>\n",
              "      <th>Geography</th>\n",
              "      <th>Gender</th>\n",
              "      <th>Age</th>\n",
              "      <th>Tenure</th>\n",
              "      <th>Balance</th>\n",
              "      <th>NumOfProducts</th>\n",
              "      <th>HasCrCard</th>\n",
              "      <th>IsActiveMember</th>\n",
              "      <th>EstimatedSalary</th>\n",
              "      <th>Exited</th>\n",
              "    </tr>\n",
              "  </thead>\n",
              "  <tbody>\n",
              "    <tr>\n",
              "      <th>0</th>\n",
              "      <td>1</td>\n",
              "      <td>15634602</td>\n",
              "      <td>Hargrave</td>\n",
              "      <td>619</td>\n",
              "      <td>France</td>\n",
              "      <td>Female</td>\n",
              "      <td>42</td>\n",
              "      <td>2</td>\n",
              "      <td>0.00</td>\n",
              "      <td>1</td>\n",
              "      <td>1</td>\n",
              "      <td>1</td>\n",
              "      <td>101348.88</td>\n",
              "      <td>1</td>\n",
              "    </tr>\n",
              "    <tr>\n",
              "      <th>1</th>\n",
              "      <td>2</td>\n",
              "      <td>15647311</td>\n",
              "      <td>Hill</td>\n",
              "      <td>608</td>\n",
              "      <td>Spain</td>\n",
              "      <td>Female</td>\n",
              "      <td>41</td>\n",
              "      <td>1</td>\n",
              "      <td>83807.86</td>\n",
              "      <td>1</td>\n",
              "      <td>0</td>\n",
              "      <td>1</td>\n",
              "      <td>112542.58</td>\n",
              "      <td>0</td>\n",
              "    </tr>\n",
              "    <tr>\n",
              "      <th>2</th>\n",
              "      <td>3</td>\n",
              "      <td>15619304</td>\n",
              "      <td>Onio</td>\n",
              "      <td>502</td>\n",
              "      <td>France</td>\n",
              "      <td>Female</td>\n",
              "      <td>42</td>\n",
              "      <td>8</td>\n",
              "      <td>159660.80</td>\n",
              "      <td>3</td>\n",
              "      <td>1</td>\n",
              "      <td>0</td>\n",
              "      <td>113931.57</td>\n",
              "      <td>1</td>\n",
              "    </tr>\n",
              "    <tr>\n",
              "      <th>3</th>\n",
              "      <td>4</td>\n",
              "      <td>15701354</td>\n",
              "      <td>Boni</td>\n",
              "      <td>699</td>\n",
              "      <td>France</td>\n",
              "      <td>Female</td>\n",
              "      <td>39</td>\n",
              "      <td>1</td>\n",
              "      <td>0.00</td>\n",
              "      <td>2</td>\n",
              "      <td>0</td>\n",
              "      <td>0</td>\n",
              "      <td>93826.63</td>\n",
              "      <td>0</td>\n",
              "    </tr>\n",
              "    <tr>\n",
              "      <th>4</th>\n",
              "      <td>5</td>\n",
              "      <td>15737888</td>\n",
              "      <td>Mitchell</td>\n",
              "      <td>850</td>\n",
              "      <td>Spain</td>\n",
              "      <td>Female</td>\n",
              "      <td>43</td>\n",
              "      <td>2</td>\n",
              "      <td>125510.82</td>\n",
              "      <td>1</td>\n",
              "      <td>1</td>\n",
              "      <td>1</td>\n",
              "      <td>79084.10</td>\n",
              "      <td>0</td>\n",
              "    </tr>\n",
              "  </tbody>\n",
              "</table>\n",
              "</div>"
            ],
            "text/plain": [
              "   RowNumber  CustomerId   Surname  ...  IsActiveMember EstimatedSalary Exited\n",
              "0          1    15634602  Hargrave  ...               1       101348.88      1\n",
              "1          2    15647311      Hill  ...               1       112542.58      0\n",
              "2          3    15619304      Onio  ...               0       113931.57      1\n",
              "3          4    15701354      Boni  ...               0        93826.63      0\n",
              "4          5    15737888  Mitchell  ...               1        79084.10      0\n",
              "\n",
              "[5 rows x 14 columns]"
            ]
          },
          "metadata": {
            "tags": []
          },
          "execution_count": 25
        }
      ]
    },
    {
      "cell_type": "code",
      "metadata": {
        "id": "Q576d501kdNV"
      },
      "source": [
        "#Let us get our X and y values\n",
        "X= data.iloc[:, 3:13]\n",
        "y= data.iloc[:,13]\n"
      ],
      "execution_count": 26,
      "outputs": []
    },
    {
      "cell_type": "code",
      "metadata": {
        "id": "u3GZGvcsvC08"
      },
      "source": [
        "#Since country and gender are strings let us covert them to dummies\n",
        "country = pd.get_dummies(X['Geography'], drop_first= True)\n",
        "gender = pd.get_dummies(X['Gender'], drop_first=True)"
      ],
      "execution_count": 27,
      "outputs": []
    },
    {
      "cell_type": "code",
      "metadata": {
        "id": "Ja9LgGQvvrFB"
      },
      "source": [
        "# As two coulumns are made dummies let us concatenate them with our dataset\n",
        "X= pd.concat([X, country, gender], axis =1)\n",
        "# Dropping unncessary colummns\n",
        "X = X.drop(['Geography', 'Gender'], axis= 1)"
      ],
      "execution_count": 28,
      "outputs": []
    },
    {
      "cell_type": "code",
      "metadata": {
        "id": "QsvFR867xQLy"
      },
      "source": [
        "from sklearn.model_selection import train_test_split\n",
        "X_train, X_test, y_train, y_test = train_test_split(X,y, test_size = 0.2, random_state = 0)\n"
      ],
      "execution_count": 29,
      "outputs": []
    },
    {
      "cell_type": "code",
      "metadata": {
        "id": "eiavgaL45QNt"
      },
      "source": [
        "#Feature scaling to increase the smothness\n",
        "from sklearn.preprocessing import StandardScaler\n",
        "sc = StandardScaler()\n",
        "X_train = sc.fit_transform(X_train)\n",
        "X_test = sc.fit_transform(X_test)"
      ],
      "execution_count": 30,
      "outputs": []
    },
    {
      "cell_type": "code",
      "metadata": {
        "colab": {
          "base_uri": "https://localhost:8080/"
        },
        "id": "QfnUzdYA7X18",
        "outputId": "e8cf72ff-020c-4d53-9e3a-c0b9ca7e794c"
      },
      "source": [
        "pip install -- keras"
      ],
      "execution_count": 31,
      "outputs": [
        {
          "output_type": "stream",
          "text": [
            "Requirement already satisfied: keras in /usr/local/lib/python3.6/dist-packages (2.4.3)\n",
            "Requirement already satisfied: h5py in /usr/local/lib/python3.6/dist-packages (from keras) (2.10.0)\n",
            "Requirement already satisfied: pyyaml in /usr/local/lib/python3.6/dist-packages (from keras) (3.13)\n",
            "Requirement already satisfied: scipy>=0.14 in /usr/local/lib/python3.6/dist-packages (from keras) (1.4.1)\n",
            "Requirement already satisfied: numpy>=1.9.1 in /usr/local/lib/python3.6/dist-packages (from keras) (1.18.5)\n",
            "Requirement already satisfied: six in /usr/local/lib/python3.6/dist-packages (from h5py->keras) (1.15.0)\n"
          ],
          "name": "stdout"
        }
      ]
    },
    {
      "cell_type": "code",
      "metadata": {
        "id": "omiihwjb53Yb"
      },
      "source": [
        "#ANN part\n",
        "import keras\n",
        "from keras.models import Sequential\n",
        "from keras.layers import Dense\n",
        "from keras.layers import LeakyReLU, PReLU, ELU\n",
        "from keras.layers import Dropout"
      ],
      "execution_count": 33,
      "outputs": []
    },
    {
      "cell_type": "code",
      "metadata": {
        "colab": {
          "base_uri": "https://localhost:8080/"
        },
        "id": "7erGt0wq6dr-",
        "outputId": "232e1912-6656-42fc-9f6a-bbd488bda929"
      },
      "source": [
        "#Start the ANN\n",
        "classif = Sequential()\n",
        "classif.add(Dense(units = 6, kernel_initializer= 'he_uniform', activation='relu', input_dim = 11 ))\n",
        "classif.add(Dense(units = 6, kernel_initializer= 'he_uniform', activation='relu'))\n",
        "classif.add(Dense(units= 1, kernel_initializer = 'glorot_uniform', activation='sigmoid'))\n",
        "classif.compile(optimizer= 'Adam', loss = 'binary_crossentropy', metrics = ['accuracy'])\n",
        "#Fitting the ANN to training set \n",
        "model_history = classif.fit(X_train, y_train, validation_split= 0.33, batch_size = 10, epochs=100)"
      ],
      "execution_count": 41,
      "outputs": [
        {
          "output_type": "stream",
          "text": [
            "Epoch 1/100\n",
            "536/536 [==============================] - 1s 2ms/step - loss: 0.5352 - accuracy: 0.7682 - val_loss: 0.4997 - val_accuracy: 0.7910\n",
            "Epoch 2/100\n",
            "536/536 [==============================] - 1s 1ms/step - loss: 0.4653 - accuracy: 0.8015 - val_loss: 0.4677 - val_accuracy: 0.7993\n",
            "Epoch 3/100\n",
            "536/536 [==============================] - 1s 2ms/step - loss: 0.4390 - accuracy: 0.8127 - val_loss: 0.4502 - val_accuracy: 0.8076\n",
            "Epoch 4/100\n",
            "536/536 [==============================] - 1s 1ms/step - loss: 0.4224 - accuracy: 0.8227 - val_loss: 0.4374 - val_accuracy: 0.8186\n",
            "Epoch 5/100\n",
            "536/536 [==============================] - 1s 2ms/step - loss: 0.4072 - accuracy: 0.8315 - val_loss: 0.4224 - val_accuracy: 0.8239\n",
            "Epoch 6/100\n",
            "536/536 [==============================] - 1s 2ms/step - loss: 0.3914 - accuracy: 0.8405 - val_loss: 0.4064 - val_accuracy: 0.8319\n",
            "Epoch 7/100\n",
            "536/536 [==============================] - 1s 2ms/step - loss: 0.3761 - accuracy: 0.8485 - val_loss: 0.3939 - val_accuracy: 0.8383\n",
            "Epoch 8/100\n",
            "536/536 [==============================] - 1s 2ms/step - loss: 0.3657 - accuracy: 0.8543 - val_loss: 0.3865 - val_accuracy: 0.8368\n",
            "Epoch 9/100\n",
            "536/536 [==============================] - 1s 2ms/step - loss: 0.3593 - accuracy: 0.8563 - val_loss: 0.3813 - val_accuracy: 0.8413\n",
            "Epoch 10/100\n",
            "536/536 [==============================] - 1s 2ms/step - loss: 0.3551 - accuracy: 0.8559 - val_loss: 0.3758 - val_accuracy: 0.8440\n",
            "Epoch 11/100\n",
            "536/536 [==============================] - 1s 2ms/step - loss: 0.3520 - accuracy: 0.8572 - val_loss: 0.3737 - val_accuracy: 0.8448\n",
            "Epoch 12/100\n",
            "536/536 [==============================] - 1s 2ms/step - loss: 0.3495 - accuracy: 0.8582 - val_loss: 0.3730 - val_accuracy: 0.8448\n",
            "Epoch 13/100\n",
            "536/536 [==============================] - 1s 2ms/step - loss: 0.3484 - accuracy: 0.8586 - val_loss: 0.3701 - val_accuracy: 0.8474\n",
            "Epoch 14/100\n",
            "536/536 [==============================] - 1s 1ms/step - loss: 0.3467 - accuracy: 0.8602 - val_loss: 0.3696 - val_accuracy: 0.8448\n",
            "Epoch 15/100\n",
            "536/536 [==============================] - 1s 1ms/step - loss: 0.3457 - accuracy: 0.8586 - val_loss: 0.3678 - val_accuracy: 0.8485\n",
            "Epoch 16/100\n",
            "536/536 [==============================] - 1s 1ms/step - loss: 0.3446 - accuracy: 0.8597 - val_loss: 0.3672 - val_accuracy: 0.8485\n",
            "Epoch 17/100\n",
            "536/536 [==============================] - 1s 1ms/step - loss: 0.3437 - accuracy: 0.8593 - val_loss: 0.3659 - val_accuracy: 0.8501\n",
            "Epoch 18/100\n",
            "536/536 [==============================] - 1s 1ms/step - loss: 0.3430 - accuracy: 0.8606 - val_loss: 0.3650 - val_accuracy: 0.8516\n",
            "Epoch 19/100\n",
            "536/536 [==============================] - 1s 1ms/step - loss: 0.3421 - accuracy: 0.8625 - val_loss: 0.3655 - val_accuracy: 0.8497\n",
            "Epoch 20/100\n",
            "536/536 [==============================] - 1s 1ms/step - loss: 0.3414 - accuracy: 0.8612 - val_loss: 0.3637 - val_accuracy: 0.8546\n",
            "Epoch 21/100\n",
            "536/536 [==============================] - 1s 1ms/step - loss: 0.3409 - accuracy: 0.8617 - val_loss: 0.3633 - val_accuracy: 0.8550\n",
            "Epoch 22/100\n",
            "536/536 [==============================] - 1s 1ms/step - loss: 0.3399 - accuracy: 0.8628 - val_loss: 0.3627 - val_accuracy: 0.8557\n",
            "Epoch 23/100\n",
            "536/536 [==============================] - 1s 2ms/step - loss: 0.3394 - accuracy: 0.8623 - val_loss: 0.3636 - val_accuracy: 0.8565\n",
            "Epoch 24/100\n",
            "536/536 [==============================] - 1s 2ms/step - loss: 0.3392 - accuracy: 0.8628 - val_loss: 0.3621 - val_accuracy: 0.8573\n",
            "Epoch 25/100\n",
            "536/536 [==============================] - 1s 1ms/step - loss: 0.3386 - accuracy: 0.8628 - val_loss: 0.3626 - val_accuracy: 0.8561\n",
            "Epoch 26/100\n",
            "536/536 [==============================] - 1s 1ms/step - loss: 0.3382 - accuracy: 0.8625 - val_loss: 0.3614 - val_accuracy: 0.8554\n",
            "Epoch 27/100\n",
            "536/536 [==============================] - 1s 1ms/step - loss: 0.3379 - accuracy: 0.8630 - val_loss: 0.3610 - val_accuracy: 0.8569\n",
            "Epoch 28/100\n",
            "536/536 [==============================] - 1s 1ms/step - loss: 0.3375 - accuracy: 0.8642 - val_loss: 0.3617 - val_accuracy: 0.8557\n",
            "Epoch 29/100\n",
            "536/536 [==============================] - 1s 1ms/step - loss: 0.3372 - accuracy: 0.8643 - val_loss: 0.3603 - val_accuracy: 0.8565\n",
            "Epoch 30/100\n",
            "536/536 [==============================] - 1s 2ms/step - loss: 0.3367 - accuracy: 0.8636 - val_loss: 0.3606 - val_accuracy: 0.8580\n",
            "Epoch 31/100\n",
            "536/536 [==============================] - 1s 2ms/step - loss: 0.3365 - accuracy: 0.8627 - val_loss: 0.3599 - val_accuracy: 0.8588\n",
            "Epoch 32/100\n",
            "536/536 [==============================] - 1s 1ms/step - loss: 0.3361 - accuracy: 0.8638 - val_loss: 0.3601 - val_accuracy: 0.8550\n",
            "Epoch 33/100\n",
            "536/536 [==============================] - 1s 1ms/step - loss: 0.3356 - accuracy: 0.8636 - val_loss: 0.3603 - val_accuracy: 0.8588\n",
            "Epoch 34/100\n",
            "536/536 [==============================] - 1s 1ms/step - loss: 0.3356 - accuracy: 0.8642 - val_loss: 0.3589 - val_accuracy: 0.8591\n",
            "Epoch 35/100\n",
            "536/536 [==============================] - 1s 1ms/step - loss: 0.3350 - accuracy: 0.8658 - val_loss: 0.3595 - val_accuracy: 0.8561\n",
            "Epoch 36/100\n",
            "536/536 [==============================] - 1s 2ms/step - loss: 0.3351 - accuracy: 0.8628 - val_loss: 0.3599 - val_accuracy: 0.8573\n",
            "Epoch 37/100\n",
            "536/536 [==============================] - 1s 2ms/step - loss: 0.3339 - accuracy: 0.8621 - val_loss: 0.3647 - val_accuracy: 0.8501\n",
            "Epoch 38/100\n",
            "536/536 [==============================] - 1s 1ms/step - loss: 0.3342 - accuracy: 0.8655 - val_loss: 0.3596 - val_accuracy: 0.8584\n",
            "Epoch 39/100\n",
            "536/536 [==============================] - 1s 2ms/step - loss: 0.3336 - accuracy: 0.8634 - val_loss: 0.3594 - val_accuracy: 0.8603\n",
            "Epoch 40/100\n",
            "536/536 [==============================] - 1s 2ms/step - loss: 0.3333 - accuracy: 0.8647 - val_loss: 0.3592 - val_accuracy: 0.8588\n",
            "Epoch 41/100\n",
            "536/536 [==============================] - 1s 1ms/step - loss: 0.3339 - accuracy: 0.8628 - val_loss: 0.3597 - val_accuracy: 0.8576\n",
            "Epoch 42/100\n",
            "536/536 [==============================] - 1s 1ms/step - loss: 0.3333 - accuracy: 0.8632 - val_loss: 0.3591 - val_accuracy: 0.8595\n",
            "Epoch 43/100\n",
            "536/536 [==============================] - 1s 2ms/step - loss: 0.3335 - accuracy: 0.8617 - val_loss: 0.3589 - val_accuracy: 0.8576\n",
            "Epoch 44/100\n",
            "536/536 [==============================] - 1s 2ms/step - loss: 0.3329 - accuracy: 0.8636 - val_loss: 0.3603 - val_accuracy: 0.8584\n",
            "Epoch 45/100\n",
            "536/536 [==============================] - 1s 1ms/step - loss: 0.3330 - accuracy: 0.8655 - val_loss: 0.3585 - val_accuracy: 0.8591\n",
            "Epoch 46/100\n",
            "536/536 [==============================] - 1s 1ms/step - loss: 0.3327 - accuracy: 0.8655 - val_loss: 0.3602 - val_accuracy: 0.8561\n",
            "Epoch 47/100\n",
            "536/536 [==============================] - 1s 1ms/step - loss: 0.3327 - accuracy: 0.8638 - val_loss: 0.3596 - val_accuracy: 0.8561\n",
            "Epoch 48/100\n",
            "536/536 [==============================] - 1s 2ms/step - loss: 0.3328 - accuracy: 0.8649 - val_loss: 0.3583 - val_accuracy: 0.8573\n",
            "Epoch 49/100\n",
            "536/536 [==============================] - 1s 2ms/step - loss: 0.3318 - accuracy: 0.8642 - val_loss: 0.3597 - val_accuracy: 0.8554\n",
            "Epoch 50/100\n",
            "536/536 [==============================] - 1s 2ms/step - loss: 0.3323 - accuracy: 0.8634 - val_loss: 0.3581 - val_accuracy: 0.8599\n",
            "Epoch 51/100\n",
            "536/536 [==============================] - 1s 1ms/step - loss: 0.3318 - accuracy: 0.8647 - val_loss: 0.3580 - val_accuracy: 0.8595\n",
            "Epoch 52/100\n",
            "536/536 [==============================] - 1s 1ms/step - loss: 0.3310 - accuracy: 0.8638 - val_loss: 0.3594 - val_accuracy: 0.8591\n",
            "Epoch 53/100\n",
            "536/536 [==============================] - 1s 1ms/step - loss: 0.3313 - accuracy: 0.8647 - val_loss: 0.3583 - val_accuracy: 0.8573\n",
            "Epoch 54/100\n",
            "536/536 [==============================] - 1s 2ms/step - loss: 0.3320 - accuracy: 0.8630 - val_loss: 0.3576 - val_accuracy: 0.8588\n",
            "Epoch 55/100\n",
            "536/536 [==============================] - 1s 1ms/step - loss: 0.3315 - accuracy: 0.8627 - val_loss: 0.3575 - val_accuracy: 0.8584\n",
            "Epoch 56/100\n",
            "536/536 [==============================] - 1s 1ms/step - loss: 0.3310 - accuracy: 0.8617 - val_loss: 0.3583 - val_accuracy: 0.8595\n",
            "Epoch 57/100\n",
            "536/536 [==============================] - 1s 2ms/step - loss: 0.3307 - accuracy: 0.8645 - val_loss: 0.3569 - val_accuracy: 0.8580\n",
            "Epoch 58/100\n",
            "536/536 [==============================] - 1s 2ms/step - loss: 0.3307 - accuracy: 0.8638 - val_loss: 0.3579 - val_accuracy: 0.8554\n",
            "Epoch 59/100\n",
            "536/536 [==============================] - 1s 2ms/step - loss: 0.3303 - accuracy: 0.8628 - val_loss: 0.3568 - val_accuracy: 0.8580\n",
            "Epoch 60/100\n",
            "536/536 [==============================] - 1s 2ms/step - loss: 0.3302 - accuracy: 0.8625 - val_loss: 0.3571 - val_accuracy: 0.8573\n",
            "Epoch 61/100\n",
            "536/536 [==============================] - 1s 2ms/step - loss: 0.3299 - accuracy: 0.8653 - val_loss: 0.3562 - val_accuracy: 0.8595\n",
            "Epoch 62/100\n",
            "536/536 [==============================] - 1s 2ms/step - loss: 0.3300 - accuracy: 0.8625 - val_loss: 0.3573 - val_accuracy: 0.8535\n",
            "Epoch 63/100\n",
            "536/536 [==============================] - 1s 1ms/step - loss: 0.3298 - accuracy: 0.8632 - val_loss: 0.3580 - val_accuracy: 0.8550\n",
            "Epoch 64/100\n",
            "536/536 [==============================] - 1s 1ms/step - loss: 0.3303 - accuracy: 0.8619 - val_loss: 0.3571 - val_accuracy: 0.8557\n",
            "Epoch 65/100\n",
            "536/536 [==============================] - 1s 1ms/step - loss: 0.3290 - accuracy: 0.8619 - val_loss: 0.3577 - val_accuracy: 0.8580\n",
            "Epoch 66/100\n",
            "536/536 [==============================] - 1s 1ms/step - loss: 0.3291 - accuracy: 0.8647 - val_loss: 0.3557 - val_accuracy: 0.8565\n",
            "Epoch 67/100\n",
            "536/536 [==============================] - 1s 1ms/step - loss: 0.3291 - accuracy: 0.8645 - val_loss: 0.3591 - val_accuracy: 0.8557\n",
            "Epoch 68/100\n",
            "536/536 [==============================] - 1s 2ms/step - loss: 0.3294 - accuracy: 0.8636 - val_loss: 0.3575 - val_accuracy: 0.8550\n",
            "Epoch 69/100\n",
            "536/536 [==============================] - 1s 1ms/step - loss: 0.3290 - accuracy: 0.8640 - val_loss: 0.3570 - val_accuracy: 0.8565\n",
            "Epoch 70/100\n",
            "536/536 [==============================] - 1s 1ms/step - loss: 0.3292 - accuracy: 0.8638 - val_loss: 0.3582 - val_accuracy: 0.8550\n",
            "Epoch 71/100\n",
            "536/536 [==============================] - 1s 1ms/step - loss: 0.3295 - accuracy: 0.8630 - val_loss: 0.3592 - val_accuracy: 0.8523\n",
            "Epoch 72/100\n",
            "536/536 [==============================] - 1s 2ms/step - loss: 0.3284 - accuracy: 0.8660 - val_loss: 0.3583 - val_accuracy: 0.8557\n",
            "Epoch 73/100\n",
            "536/536 [==============================] - 1s 1ms/step - loss: 0.3293 - accuracy: 0.8625 - val_loss: 0.3589 - val_accuracy: 0.8576\n",
            "Epoch 74/100\n",
            "536/536 [==============================] - 1s 1ms/step - loss: 0.3288 - accuracy: 0.8636 - val_loss: 0.3586 - val_accuracy: 0.8557\n",
            "Epoch 75/100\n",
            "536/536 [==============================] - 1s 1ms/step - loss: 0.3288 - accuracy: 0.8653 - val_loss: 0.3579 - val_accuracy: 0.8531\n",
            "Epoch 76/100\n",
            "536/536 [==============================] - 1s 1ms/step - loss: 0.3290 - accuracy: 0.8640 - val_loss: 0.3580 - val_accuracy: 0.8550\n",
            "Epoch 77/100\n",
            "536/536 [==============================] - 1s 1ms/step - loss: 0.3286 - accuracy: 0.8645 - val_loss: 0.3584 - val_accuracy: 0.8546\n",
            "Epoch 78/100\n",
            "536/536 [==============================] - 1s 2ms/step - loss: 0.3289 - accuracy: 0.8630 - val_loss: 0.3577 - val_accuracy: 0.8561\n",
            "Epoch 79/100\n",
            "536/536 [==============================] - 1s 1ms/step - loss: 0.3286 - accuracy: 0.8600 - val_loss: 0.3574 - val_accuracy: 0.8538\n",
            "Epoch 80/100\n",
            "536/536 [==============================] - 1s 1ms/step - loss: 0.3282 - accuracy: 0.8645 - val_loss: 0.3575 - val_accuracy: 0.8550\n",
            "Epoch 81/100\n",
            "536/536 [==============================] - 1s 1ms/step - loss: 0.3285 - accuracy: 0.8623 - val_loss: 0.3584 - val_accuracy: 0.8569\n",
            "Epoch 82/100\n",
            "536/536 [==============================] - 1s 1ms/step - loss: 0.3280 - accuracy: 0.8647 - val_loss: 0.3600 - val_accuracy: 0.8557\n",
            "Epoch 83/100\n",
            "536/536 [==============================] - 1s 1ms/step - loss: 0.3281 - accuracy: 0.8640 - val_loss: 0.3568 - val_accuracy: 0.8535\n",
            "Epoch 84/100\n",
            "536/536 [==============================] - 1s 2ms/step - loss: 0.3280 - accuracy: 0.8636 - val_loss: 0.3572 - val_accuracy: 0.8542\n",
            "Epoch 85/100\n",
            "536/536 [==============================] - 1s 2ms/step - loss: 0.3285 - accuracy: 0.8642 - val_loss: 0.3566 - val_accuracy: 0.8542\n",
            "Epoch 86/100\n",
            "536/536 [==============================] - 1s 1ms/step - loss: 0.3281 - accuracy: 0.8640 - val_loss: 0.3582 - val_accuracy: 0.8557\n",
            "Epoch 87/100\n",
            "536/536 [==============================] - 1s 2ms/step - loss: 0.3283 - accuracy: 0.8647 - val_loss: 0.3587 - val_accuracy: 0.8546\n",
            "Epoch 88/100\n",
            "536/536 [==============================] - 1s 2ms/step - loss: 0.3281 - accuracy: 0.8647 - val_loss: 0.3584 - val_accuracy: 0.8531\n",
            "Epoch 89/100\n",
            "536/536 [==============================] - 1s 1ms/step - loss: 0.3279 - accuracy: 0.8625 - val_loss: 0.3581 - val_accuracy: 0.8561\n",
            "Epoch 90/100\n",
            "536/536 [==============================] - 1s 1ms/step - loss: 0.3280 - accuracy: 0.8658 - val_loss: 0.3590 - val_accuracy: 0.8542\n",
            "Epoch 91/100\n",
            "536/536 [==============================] - 1s 1ms/step - loss: 0.3281 - accuracy: 0.8645 - val_loss: 0.3571 - val_accuracy: 0.8550\n",
            "Epoch 92/100\n",
            "536/536 [==============================] - 1s 2ms/step - loss: 0.3280 - accuracy: 0.8634 - val_loss: 0.3575 - val_accuracy: 0.8542\n",
            "Epoch 93/100\n",
            "536/536 [==============================] - 1s 2ms/step - loss: 0.3278 - accuracy: 0.8656 - val_loss: 0.3580 - val_accuracy: 0.8561\n",
            "Epoch 94/100\n",
            "536/536 [==============================] - 1s 1ms/step - loss: 0.3276 - accuracy: 0.8625 - val_loss: 0.3593 - val_accuracy: 0.8554\n",
            "Epoch 95/100\n",
            "536/536 [==============================] - 1s 1ms/step - loss: 0.3276 - accuracy: 0.8642 - val_loss: 0.3589 - val_accuracy: 0.8561\n",
            "Epoch 96/100\n",
            "536/536 [==============================] - 1s 2ms/step - loss: 0.3276 - accuracy: 0.8636 - val_loss: 0.3573 - val_accuracy: 0.8554\n",
            "Epoch 97/100\n",
            "536/536 [==============================] - 1s 1ms/step - loss: 0.3277 - accuracy: 0.8645 - val_loss: 0.3573 - val_accuracy: 0.8531\n",
            "Epoch 98/100\n",
            "536/536 [==============================] - 1s 1ms/step - loss: 0.3275 - accuracy: 0.8651 - val_loss: 0.3577 - val_accuracy: 0.8561\n",
            "Epoch 99/100\n",
            "536/536 [==============================] - 1s 2ms/step - loss: 0.3274 - accuracy: 0.8634 - val_loss: 0.3570 - val_accuracy: 0.8550\n",
            "Epoch 100/100\n",
            "536/536 [==============================] - 1s 2ms/step - loss: 0.3273 - accuracy: 0.8638 - val_loss: 0.3588 - val_accuracy: 0.8554\n"
          ],
          "name": "stdout"
        }
      ]
    },
    {
      "cell_type": "code",
      "metadata": {
        "id": "y1Ewwus0YVtW"
      },
      "source": [
        "y_pred = classif.predict(X_test)\n",
        "y_pred = (y_pred> 0.5)"
      ],
      "execution_count": 44,
      "outputs": []
    },
    {
      "cell_type": "code",
      "metadata": {
        "id": "cAS-00LYlV4q"
      },
      "source": [
        "from sklearn.metrics import confusion_matrix\n",
        "cm = confusion_matrix(y_test, y_pred)"
      ],
      "execution_count": 45,
      "outputs": []
    },
    {
      "cell_type": "code",
      "metadata": {
        "id": "_f_d_4mFl6ed"
      },
      "source": [
        "#Accuracy\n",
        "from sklearn.metrics import accuracy_score\n",
        "score = accuracy_score(y_pred, y_test)"
      ],
      "execution_count": 46,
      "outputs": []
    },
    {
      "cell_type": "code",
      "metadata": {
        "colab": {
          "base_uri": "https://localhost:8080/"
        },
        "id": "CocXG3PPmKry",
        "outputId": "11516b4a-771b-4fe0-d0af-7595886955ad"
      },
      "source": [
        "print(score)"
      ],
      "execution_count": 47,
      "outputs": [
        {
          "output_type": "stream",
          "text": [
            "0.859\n"
          ],
          "name": "stdout"
        }
      ]
    },
    {
      "cell_type": "code",
      "metadata": {
        "id": "JobauVNTmVhx"
      },
      "source": [
        ""
      ],
      "execution_count": null,
      "outputs": []
    }
  ]
}